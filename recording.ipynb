{
 "cells": [
  {
   "cell_type": "code",
   "execution_count": 2,
   "metadata": {},
   "outputs": [],
   "source": [
    "import superautodiff as sad\n",
    "import numpy as np"
   ]
  },
  {
   "cell_type": "code",
   "execution_count": 3,
   "metadata": {},
   "outputs": [],
   "source": [
    "# Instantiate AutoDiff objects\n",
    "x = sad.AutoDiff('x', 3)"
   ]
  },
  {
   "cell_type": "code",
   "execution_count": 4,
   "metadata": {},
   "outputs": [
    {
     "name": "stdout",
     "output_type": "stream",
     "text": [
      "Value of x 3.0\n",
      "Value of the derivative of x Counter({'x': 1.0})\n",
      "Value of y -2.0\n",
      "Value of the derivative of y Counter({'y': 1.0})\n"
     ]
    }
   ],
   "source": [
    "# Examine value and derivative of each object\n",
    "y = sad.AutoDiff('y', -2)\n",
    "\n",
    "print(\"Value of x\",x.val)\n",
    "print(\"Value of the derivative of x\",x.der)\n",
    "print(\"Value of y\",y.val)\n",
    "print(\"Value of the derivative of y\",y.der)"
   ]
  },
  {
   "cell_type": "markdown",
   "metadata": {},
   "source": [
    "---"
   ]
  },
  {
   "cell_type": "markdown",
   "metadata": {},
   "source": [
    "### Sample function\n",
    "\n",
    "#### Evalute the following function  at $(3,-2)$:\n",
    "#### $$f(x,y) = 2x^3 - 5x^2 + sin(x) + 2y - 3 $$"
   ]
  },
  {
   "cell_type": "code",
   "execution_count": 5,
   "metadata": {},
   "outputs": [],
   "source": [
    "# Create the function using our AutoDiff object\n",
    "f = 2 * (x**3) - 5 * (x ** 2) - sad.sin(x) + 2 * y - 3"
   ]
  },
  {
   "cell_type": "code",
   "execution_count": 6,
   "metadata": {
    "scrolled": true
   },
   "outputs": [
    {
     "name": "stdout",
     "output_type": "stream",
     "text": [
      "Value of f 1.8588799919401335\n",
      "Value of the derivatives of f Counter({'x': 24.989992496600447, 'y': 2.0})\n"
     ]
    }
   ],
   "source": [
    "# Calculate value and derivative values\n",
    "print(\"Value of f\",f.val)\n",
    "print(\"Value of the derivatives of f\",f.der)"
   ]
  },
  {
   "cell_type": "markdown",
   "metadata": {},
   "source": [
    "---"
   ]
  },
  {
   "cell_type": "markdown",
   "metadata": {},
   "source": [
    "#### Expected value of $f: 1.859$\n",
    "#### Expected value of $\\frac{df}{dx}: 24.98$\n",
    "#### Expected value of $\\frac{df}{dy}: 2$"
   ]
  },
  {
   "cell_type": "code",
   "execution_count": 7,
   "metadata": {},
   "outputs": [
    {
     "name": "stdout",
     "output_type": "stream",
     "text": [
      "[[1. 0. 0.]] \n",
      "\n",
      "[[0. 1. 0.]] \n",
      "\n",
      "[[24.9899925  2.         0.       ]\n",
      " [ 1.         0.         0.       ]\n",
      " [ 0.         1.         0.       ]]\n"
     ]
    }
   ],
   "source": [
    "print(sad.tools.jacobian(['x','y', 'z'], [x]),\"\\n\")\n",
    "print(sad.tools.jacobian(['x','y', 'z'], [y]),\"\\n\")\n",
    "print(sad.tools.jacobian(['x','y', 'z'], [f, x, y]))"
   ]
  },
  {
   "cell_type": "code",
   "execution_count": 8,
   "metadata": {},
   "outputs": [
    {
     "name": "stdout",
     "output_type": "stream",
     "text": [
      "{'a': <superautodiff.autodiff.AutoDiff object at 0x00000144F1C7B048>, 'b': <superautodiff.autodiff.AutoDiff object at 0x00000144F1C7B518>, 'c': <superautodiff.autodiff.AutoDiff object at 0x00000144F1C7B2B0>}\n"
     ]
    }
   ],
   "source": [
    "# First approach to vectorization\n",
    "# Create AD objects and place them into an array\n",
    "a = sad.AutoDiff('a', 1)\n",
    "b = sad.AutoDiff('b', 2)\n",
    "c = sad.AutoDiff('c', 3)\n",
    "\n",
    "array = [a,b,c]\n",
    "\n",
    "# Create ADV object directly\n",
    "v_1 = sad.AutoDiffVector(array)\n",
    "\n",
    "# Examine our ADV object\n",
    "print(v_1.objects)"
   ]
  },
  {
   "cell_type": "code",
   "execution_count": 9,
   "metadata": {},
   "outputs": [
    {
     "name": "stdout",
     "output_type": "stream",
     "text": [
      "{'d': <superautodiff.autodiff.AutoDiff object at 0x00000144F1C7B470>, 'e': <superautodiff.autodiff.AutoDiff object at 0x00000144F1C7B3C8>, 'f': <superautodiff.autodiff.AutoDiff object at 0x00000144F1C7B1D0>}\n"
     ]
    }
   ],
   "source": [
    "# Second approach to vectorization\n",
    "\n",
    "# Create lists for variables and values\n",
    "variables = ['d', 'e', 'f']\n",
    "values = [4, 5, 6]\n",
    "\n",
    "# Call function to vectorize\n",
    "v_2 = sad.vectorize(variables, values)\n",
    "\n",
    "# Examine our ADV object\n",
    "print(v_2.objects)"
   ]
  },
  {
   "cell_type": "code",
   "execution_count": 10,
   "metadata": {},
   "outputs": [
    {
     "name": "stdout",
     "output_type": "stream",
     "text": [
      "11.0 \n",
      "\n",
      "Counter({'b': 2.0}) \n",
      "\n",
      "Counter({'c': 4.778919883107873})\n"
     ]
    }
   ],
   "source": [
    "# Perform operations on our ADV object\n",
    "v_1 += 10\n",
    "print(v_1.objects['a'].val, \"\\n\")\n",
    "\n",
    "v_1 = v_1 * 2\n",
    "print(v_1.objects['b'].der, \"\\n\")\n",
    "\n",
    "v_1 = sad.tan(v_1)\n",
    "print(v_1.objects['c'].der)"
   ]
  },
  {
   "cell_type": "code",
   "execution_count": null,
   "metadata": {},
   "outputs": [],
   "source": []
  },
  {
   "cell_type": "code",
   "execution_count": null,
   "metadata": {},
   "outputs": [],
   "source": []
  }
 ],
 "metadata": {
  "kernelspec": {
   "display_name": "Python 3",
   "language": "python",
   "name": "python3"
  },
  "language_info": {
   "codemirror_mode": {
    "name": "ipython",
    "version": 3
   },
   "file_extension": ".py",
   "mimetype": "text/x-python",
   "name": "python",
   "nbconvert_exporter": "python",
   "pygments_lexer": "ipython3",
   "version": "3.7.3"
  }
 },
 "nbformat": 4,
 "nbformat_minor": 2
}
