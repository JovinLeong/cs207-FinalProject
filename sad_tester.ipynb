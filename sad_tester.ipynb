{
 "cells": [
  {
   "cell_type": "code",

   "execution_count": 52,

   "metadata": {},
   "outputs": [
    {
     "name": "stdout",
     "output_type": "stream",
     "text": [
      "11.0\n",
      "12.0\n"
     ]
    }
   ],
   "source": [
    "import superautodiff as sad\n",
    "import numpy as np\n",
    "\n",
    "a = sad.AutoDiff('a', 2)\n",
    "b = sad.AutoDiff('b', 3)\n",
    "\n",
    "ab = [a,b]\n",
    "tester = sad.autodiff.AutoDiffVector(ab)\n",
    "tester = 9 + tester\n",
    "\n",
    "print(tester.objects['a'].val)\n",
    "print(tester.objects['b'].val)"
   ]
  },
  {
   "cell_type": "code",
   "execution_count": 88,
   "metadata": {},
   "outputs": [
    {
     "data": {
      "text/plain": [
       "9.0"
      ]
     },
     "execution_count": 88,
     "metadata": {},
     "output_type": "execute_result"
    }
   ],
   "source": [
    "a = sad.AutoDiff('a', 2)\n",
    "b = sad.AutoDiff('b', 3)\n",
    "\n",
    "c = 3*a**2 + b**2\n",
    "# c.der['a']\n",
    "c.der\n",
    "\n",
    "f = a**2 + 2*a + 1\n",
    "\n"
   ]
  },
  {
   "cell_type": "code",
   "execution_count": 67,
   "metadata": {},
   "outputs": [
    {
     "data": {
      "text/plain": [
       "5.0"
      ]
     },
     "execution_count": 67,
     "metadata": {},
     "output_type": "execute_result"
    }
   ],
   "source": [
    "# def root_finder(function)\n",
    "\n",
    "\n",
    "\n",
    "f.\n"
   ]
  },
  {
   "cell_type": "code",
   "execution_count": 4,
   "metadata": {},
   "outputs": [
    {
     "data": {
      "text/plain": [
       "True"
      ]
     },
     "execution_count": 4,
     "metadata": {},
     "output_type": "execute_result"
    }
   ],
   "source": [
    "def hessian(variables, function):\n",
    "    \"\"\"Returns the Hessian matrix containing the cross-partial derivatives of all variables for a given function\"\"\"\n",
    "    # Check function type\n",
    "    \n",
    "    \n",
    "    # Create a list of derivatives\n",
    "    derivatives = []\n",
    "    \n",
    "    for variable_a in variables:\n",
    "        for variable_b in variables:\n",
    "            derivative_a = function.der[variable_a]\n",
    "            \n",
    "    \n",
    "    "
   ]
  },
  {
   "cell_type": "code",
   "execution_count": 34,
   "metadata": {},
   "outputs": [
    {
     "data": {
      "text/plain": [
       "array([[0.5, 1. , 0. , 0. ],\n",
       "       [0. , 1. , 0. , 0. ]])"
      ]
     },
     "execution_count": 34,
     "metadata": {},
     "output_type": "execute_result"
    }
   ],
   "source": [
    "def hessian(variables, functions):\n",
    "    \"\"\"Returns the Jacobian matrix containing the first derivative of each input function with respect to each input variable\"\"\"\n",
    "    derivatives = []\n",
    "    \n",
    "    # Case where functions is a list of AD objects\n",
    "    if type(functions) is list:\n",
    "        \n",
    "        if len(functions) is 0:\n",
    "            raise ValueError(\"Functions cannot be empty; input either an AutoDiffVector object or a list of AutoDiff objects\")\n",
    "        \n",
    "        for function in functions:\n",
    "            for variable in variables:\n",
    "                derivatives.append(function.der[variable])\n",
    "        \n",
    "        return np.array(derivatives).reshape(len(functions), len(variables))\n",
    "    \n",
    "    # Case where functions is an ADV object\n",
    "    else:\n",
    "        if len(functions.objects) is 0:\n",
    "            raise ValueError(\"Functions cannot be empty; input either an AutoDiffVector object or a list of AutoDiff objects\")\n",
    "        \n",
    "        try:\n",
    "            for key in list(functions.objects.keys()):\n",
    "                for variable in variables:\n",
    "                    derivatives.append((functions.objects[key].der[variable]))\n",
    "            return np.array(derivatives).reshape(len(functions.objects), len(variables))\n",
    "        \n",
    "        # If neither case fits raise an error\n",
    "        except:\n",
    "            raise ValueError(\"Function inputs need to either be an AutoDiffVector object or an array of AutoDiff objects\")\n",
    "                    \n",
    "                "
   ]
  },
  {
   "cell_type": "code",
   "execution_count": 5,
   "metadata": {},
   "outputs": [],
   "source": [
    "def jacobian(variables, functions):\n",
    "    \"\"\"Returns the Jacobian matrix containing the first derivative of each input function with respect to each input variable\"\"\"\n",
    "    derivatives = []\n",
    "    \n",
    "    # Case where functions is a list of AD objects\n",
    "    if type(functions) is list:\n",
    "        \n",
    "        if len(functions) is 0:\n",
    "            raise ValueError(\"Functions cannot be empty; input either an AutoDiffVector object or a list of AutoDiff objects\")\n",
    "        \n",
    "        for function in functions:\n",
    "            for variable in variables:\n",
    "                derivatives.append(function.der[variable])\n",
    "        \n",
    "        return np.array(derivatives).reshape(len(functions), len(variables))\n",
    "    \n",
    "    # Case where functions is an ADV object\n",
    "    else:\n",
    "        if len(functions.objects) is 0:\n",
    "            raise ValueError(\"Functions cannot be empty; input either an AutoDiffVector object or a list of AutoDiff objects\")\n",
    "        \n",
    "        try:\n",
    "            for key in list(functions.objects.keys()):\n",
    "                for variable in variables:\n",
    "                    derivatives.append((functions.objects[key].der[variable]))\n",
    "            return np.array(derivatives).reshape(len(functions.objects), len(variables))\n",
    "        \n",
    "        # If neither case fits raise an error\n",
    "        except:\n",
    "            raise ValueError(\"Function inputs need to either be an AutoDiffVector object or an array of AutoDiff objects\")\n",
    "                    \n",
    "                "
   ]
  },
  {
   "cell_type": "code",
   "execution_count": 45,
   "metadata": {},
   "outputs": [
    {
     "data": {
      "text/plain": [
       "array([[5., 1., 0., 0.],\n",
       "       [0., 1., 0., 0.]])"
      ]
     },
     "execution_count": 45,
     "metadata": {},
     "output_type": "execute_result"
    }
   ],
   "source": [
    "a = sad.AutoDiff('a', 2)\n",
    "b = sad.AutoDiff('b', 3)\n",
    "\n",
    "jacobian(['a','b', 'c', 'd'], [(a*5 + b),b])"
   ]
  },
  {
   "cell_type": "code",
   "execution_count": 46,
   "metadata": {},
   "outputs": [
    {
     "ename": "KeyError",
     "evalue": "'b'",
     "output_type": "error",
     "traceback": [
      "\u001b[1;31m---------------------------------------------------------------------------\u001b[0m",
      "\u001b[1;31mKeyError\u001b[0m                                  Traceback (most recent call last)",
      "\u001b[1;32m<ipython-input-46-83a0eb7a48f0>\u001b[0m in \u001b[0;36m<module>\u001b[1;34m\u001b[0m\n\u001b[0;32m      2\u001b[0m \u001b[0mb\u001b[0m \u001b[1;33m=\u001b[0m \u001b[0msad\u001b[0m\u001b[1;33m.\u001b[0m\u001b[0mAutoDiff\u001b[0m\u001b[1;33m(\u001b[0m\u001b[1;34m'b'\u001b[0m\u001b[1;33m,\u001b[0m \u001b[1;36m3\u001b[0m\u001b[1;33m)\u001b[0m\u001b[1;33m\u001b[0m\u001b[1;33m\u001b[0m\u001b[0m\n\u001b[0;32m      3\u001b[0m \u001b[1;33m\u001b[0m\u001b[0m\n\u001b[1;32m----> 4\u001b[1;33m \u001b[0mjacobian\u001b[0m\u001b[1;33m(\u001b[0m\u001b[1;33m[\u001b[0m\u001b[1;34m'a'\u001b[0m\u001b[1;33m,\u001b[0m\u001b[1;34m'b'\u001b[0m\u001b[1;33m,\u001b[0m \u001b[1;34m'c'\u001b[0m\u001b[1;33m,\u001b[0m \u001b[1;34m'd'\u001b[0m\u001b[1;33m]\u001b[0m\u001b[1;33m,\u001b[0m \u001b[1;33m[\u001b[0m\u001b[1;33m(\u001b[0m\u001b[0ma\u001b[0m\u001b[1;33m*\u001b[0m\u001b[1;36m5\u001b[0m\u001b[1;33m)\u001b[0m\u001b[1;33m,\u001b[0m\u001b[0mb\u001b[0m\u001b[1;33m]\u001b[0m\u001b[1;33m)\u001b[0m\u001b[1;33m\u001b[0m\u001b[1;33m\u001b[0m\u001b[0m\n\u001b[0m",
      "\u001b[1;32m<ipython-input-5-d143e4954bdb>\u001b[0m in \u001b[0;36mjacobian\u001b[1;34m(variables, functions)\u001b[0m\n\u001b[0;32m     11\u001b[0m         \u001b[1;32mfor\u001b[0m \u001b[0mfunction\u001b[0m \u001b[1;32min\u001b[0m \u001b[0mfunctions\u001b[0m\u001b[1;33m:\u001b[0m\u001b[1;33m\u001b[0m\u001b[1;33m\u001b[0m\u001b[0m\n\u001b[0;32m     12\u001b[0m             \u001b[1;32mfor\u001b[0m \u001b[0mvariable\u001b[0m \u001b[1;32min\u001b[0m \u001b[0mvariables\u001b[0m\u001b[1;33m:\u001b[0m\u001b[1;33m\u001b[0m\u001b[1;33m\u001b[0m\u001b[0m\n\u001b[1;32m---> 13\u001b[1;33m                 \u001b[0mderivatives\u001b[0m\u001b[1;33m.\u001b[0m\u001b[0mappend\u001b[0m\u001b[1;33m(\u001b[0m\u001b[0mfunction\u001b[0m\u001b[1;33m.\u001b[0m\u001b[0mder\u001b[0m\u001b[1;33m[\u001b[0m\u001b[0mvariable\u001b[0m\u001b[1;33m]\u001b[0m\u001b[1;33m)\u001b[0m\u001b[1;33m\u001b[0m\u001b[1;33m\u001b[0m\u001b[0m\n\u001b[0m\u001b[0;32m     14\u001b[0m \u001b[1;33m\u001b[0m\u001b[0m\n\u001b[0;32m     15\u001b[0m         \u001b[1;32mreturn\u001b[0m \u001b[0mnp\u001b[0m\u001b[1;33m.\u001b[0m\u001b[0marray\u001b[0m\u001b[1;33m(\u001b[0m\u001b[0mderivatives\u001b[0m\u001b[1;33m)\u001b[0m\u001b[1;33m.\u001b[0m\u001b[0mreshape\u001b[0m\u001b[1;33m(\u001b[0m\u001b[0mlen\u001b[0m\u001b[1;33m(\u001b[0m\u001b[0mfunctions\u001b[0m\u001b[1;33m)\u001b[0m\u001b[1;33m,\u001b[0m \u001b[0mlen\u001b[0m\u001b[1;33m(\u001b[0m\u001b[0mvariables\u001b[0m\u001b[1;33m)\u001b[0m\u001b[1;33m)\u001b[0m\u001b[1;33m\u001b[0m\u001b[1;33m\u001b[0m\u001b[0m\n",
      "\u001b[1;31mKeyError\u001b[0m: 'b'"
     ]
    }
   ],
   "source": [
    "a = sad.AutoDiff('a', 2)\n",
    "b = sad.AutoDiff('b', 3)\n",
    "\n",
    "jacobian(['a','b', 'c', 'd'], [(a*5),b])"
   ]
  }
 ],
 "metadata": {
  "kernelspec": {
   "display_name": "Python 3",
   "language": "python",
   "name": "python3"
  },
  "language_info": {
   "codemirror_mode": {
    "name": "ipython",
    "version": 3
   },
   "file_extension": ".py",
   "mimetype": "text/x-python",
   "name": "python",
   "nbconvert_exporter": "python",
   "pygments_lexer": "ipython3",
   "version": "3.7.3"
  }
 },
 "nbformat": 4,
 "nbformat_minor": 2
}
