{
 "cells": [
  {
   "cell_type": "code",
   "execution_count": 14,
   "metadata": {},
   "outputs": [],
   "source": [
    "import superautodiff as sad\n",
    "import numpy as np\n",
    "\n",
    "a = sad.AutoDiff('a', 2)\n",
    "b = sad.AutoDiff('b', 3)\n",
    "\n",
    "ab = [a,b]\n",
    "tester = sad.autodiff.AutoDiffVector(ab)\n",
    "tester = 9 + tester\n",
    "\n",
    "# print(tester.objects['a'].val)\n",
    "# print(tester.objects['b'].val)\n",
    "\n"
   ]
  },
  {
   "cell_type": "code",
   "execution_count": 11,
   "metadata": {},
   "outputs": [],
   "source": [
    "a = sad.AutoDiff('a', 2)\n",
    "b = sad.AutoDiff('b', 3)\n",
    "\n",
    "c = 3*a**2 + b**2\n",
    "# c.der['a']\n",
    "c.der\n",
    "\n",
    "f = a**2 + 2*a + 1\n",
    "\n"
   ]
  },
  {
   "cell_type": "code",
   "execution_count": 41,
   "metadata": {},
   "outputs": [
    {
     "data": {
      "text/plain": [
       "'a - a'"
      ]
     },
     "execution_count": 41,
     "metadata": {},
     "output_type": "execute_result"
    }
   ],
   "source": [
    "c = a -a\n",
    "c.var"
   ]
  },
  {
   "cell_type": "code",
   "execution_count": 36,
   "metadata": {},
   "outputs": [],
   "source": [
    "# def root_finder(function)\n",
    "# f = (a - a )\n",
    "# f.var\n",
    "\n",
    "# (b).var\n",
    "\n",
    "a.var\n",
    "c = a +2\n"
   ]
  },
  {
   "cell_type": "code",
   "execution_count": 4,
   "metadata": {},
   "outputs": [],
   "source": [
    "def hessian(variables, function):\n",
    "    \"\"\"Returns the Hessian matrix containing the cross-partial derivatives of all variables for a given function\"\"\"\n",
    "    # Check function type\n",
    "    \n",
    "    \n",
    "    # Create a list of derivatives\n",
    "    derivatives = []\n",
    "    \n",
    "    for variable_a in variables:\n",
    "        for variable_b in variables:\n",
    "            derivative_a = function.der[variable_a]\n",
    "            \n",
    "    \n",
    "    "
   ]
  },
  {
   "cell_type": "code",
   "execution_count": 5,
   "metadata": {},
   "outputs": [],
   "source": [
    "def hessian(variables, functions):\n",
    "    \"\"\"Returns the Jacobian matrix containing the first derivative of each input function with respect to each input variable\"\"\"\n",
    "    derivatives = []\n",
    "    \n",
    "    # Case where functions is a list of AD objects\n",
    "    if type(functions) is list:\n",
    "        \n",
    "        if len(functions) is 0:\n",
    "            raise ValueError(\"Functions cannot be empty; input either an AutoDiffVector object or a list of AutoDiff objects\")\n",
    "        \n",
    "        for function in functions:\n",
    "            for variable in variables:\n",
    "                derivatives.append(function.der[variable])\n",
    "        \n",
    "        return np.array(derivatives).reshape(len(functions), len(variables))\n",
    "    \n",
    "    # Case where functions is an ADV object\n",
    "    else:\n",
    "        if len(functions.objects) is 0:\n",
    "            raise ValueError(\"Functions cannot be empty; input either an AutoDiffVector object or a list of AutoDiff objects\")\n",
    "        \n",
    "        try:\n",
    "            for key in list(functions.objects.keys()):\n",
    "                for variable in variables:\n",
    "                    derivatives.append((functions.objects[key].der[variable]))\n",
    "            return np.array(derivatives).reshape(len(functions.objects), len(variables))\n",
    "        \n",
    "        # If neither case fits raise an error\n",
    "        except:\n",
    "            raise ValueError(\"Function inputs need to either be an AutoDiffVector object or an array of AutoDiff objects\")\n",
    "                    \n",
    "                "
   ]
  },
  {
   "cell_type": "code",
   "execution_count": 6,
   "metadata": {},
   "outputs": [],
   "source": [
    "def jacobian(variables, functions):\n",
    "    \"\"\"Returns the Jacobian matrix containing the first derivative of each input function with respect to each input variable\"\"\"\n",
    "    derivatives = []\n",
    "    \n",
    "    # Case where functions is a list of AD objects\n",
    "    if type(functions) is list:\n",
    "        \n",
    "        if len(functions) is 0:\n",
    "            raise ValueError(\"Functions cannot be empty; input either an AutoDiffVector object or a list of AutoDiff objects\")\n",
    "        \n",
    "        for function in functions:\n",
    "            for variable in variables:\n",
    "                derivatives.append(function.der[variable])\n",
    "        \n",
    "        return np.array(derivatives).reshape(len(functions), len(variables))\n",
    "    \n",
    "    # Case where functions is an ADV object\n",
    "    else:\n",
    "        if len(functions.objects) is 0:\n",
    "            raise ValueError(\"Functions cannot be empty; input either an AutoDiffVector object or a list of AutoDiff objects\")\n",
    "        \n",
    "        try:\n",
    "            for key in list(functions.objects.keys()):\n",
    "                for variable in variables:\n",
    "                    derivatives.append((functions.objects[key].der[variable]))\n",
    "            return np.array(derivatives).reshape(len(functions.objects), len(variables))\n",
    "        \n",
    "        # If neither case fits raise an error\n",
    "        except:\n",
    "            raise ValueError(\"Function inputs need to either be an AutoDiffVector object or an array of AutoDiff objects\")\n",
    "                    \n",
    "                "
   ]
  },
  {
   "cell_type": "code",
   "execution_count": 7,
   "metadata": {},
   "outputs": [
    {
     "data": {
      "text/plain": [
       "array([[5., 1., 0., 0.],\n",
       "       [0., 1., 0., 0.]])"
      ]
     },
     "execution_count": 7,
     "metadata": {},
     "output_type": "execute_result"
    }
   ],
   "source": [
    "a = sad.AutoDiff('a', 2)\n",
    "b = sad.AutoDiff('b', 3)\n",
    "\n",
    "jacobian(['a','b', 'c', 'd'], [(a*5 + b),b])"
   ]
  },
  {
   "cell_type": "code",
   "execution_count": 9,
   "metadata": {},
   "outputs": [
    {
     "data": {
      "text/plain": [
       "array([[1., 0., 0., 0.],\n",
       "       [0., 1., 0., 0.]])"
      ]
     },
     "execution_count": 9,
     "metadata": {},
     "output_type": "execute_result"
    }
   ],
   "source": [
    "a = sad.AutoDiff('a', 2)\n",
    "b = sad.AutoDiff('b', 3)\n",
    "\n",
    "jacobian(['a','b', 'c', 'd'], [(a),b])"
   ]
  }
 ],
 "metadata": {
  "kernelspec": {
   "display_name": "Python 3",
   "language": "python",
   "name": "python3"
  },
  "language_info": {
   "codemirror_mode": {
    "name": "ipython",
    "version": 3
   },
   "file_extension": ".py",
   "mimetype": "text/x-python",
   "name": "python",
   "nbconvert_exporter": "python",
   "pygments_lexer": "ipython3",
   "version": "3.7.3"
  }
 },
 "nbformat": 4,
 "nbformat_minor": 2
}
