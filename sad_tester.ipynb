{
 "cells": [
  {
   "cell_type": "code",
   "execution_count": 1,
   "metadata": {},
   "outputs": [],
   "source": [
    "str(set('a'))"
   ]
  },
  {
   "cell_type": "code",
   "execution_count": 23,
   "metadata": {},
   "outputs": [
    {
     "data": {
      "text/plain": [
       "['a', 'b']"
      ]
     },
     "execution_count": 23,
     "metadata": {},
     "output_type": "execute_result"
    }
   ],
   "source": [
    "# testa = AutoDiff('a',2)\n",
    "# testa.var\n",
    "\n",
    "tese = {'a': 2, 'b': 3}\n",
    "list(tese.keys())"
   ]
  },
  {
   "cell_type": "code",
   "execution_count": 25,
   "metadata": {},
   "outputs": [],
   "source": [
    "import superautodiff as sad\n",
    "import numpy as np\n",
    "\n",
    "\n",
    "        "
   ]
  },
  {
   "cell_type": "code",
   "execution_count": 38,
   "metadata": {},
   "outputs": [],
   "source": [
    "import superautodiff as sad\n",
    "import numpy as np\n",
    "\n",
    "class AutoDiffVector():\n",
    "    def __init__(self, objects):\n",
    "        \n",
    "        # Ensure we have at least one AutoDiff object\n",
    "        if len(objects) == 0:\n",
    "            raise ValueError(\"AutoDiffVector requires at least one AutoDiff object as input\")\n",
    "        \n",
    "        self.objects = {}\n",
    "        self.variables = []\n",
    "        \n",
    "        # Create dictionary of variables and the AutoDiff objects\n",
    "        for i in range(len(objects)):\n",
    "            self.objects[objects[i].var] = objects[i]\n",
    "            self.variables.append(objects[i].var)\n",
    "            \n",
    "        if len(self.variables) != len(set(self.variables)):\n",
    "            raise ValueError(\"Variable names cannot be the same\")\n",
    "        \n",
    "        \n",
    "    def __add__(self, other):\n",
    "        \n",
    "        objects = []\n",
    "        for i in range(len(self.objects)):\n",
    "            new_object = self.objects[list(self.objects.keys())[i]] + other\n",
    "            objects.append(new_object)\n",
    "            \n",
    "        return AutoDiffVector(objects)\n",
    "    \n",
    "    def __radd__(self, other):\n",
    "        \n",
    "        return self.__add__(other)\n",
    "\n",
    "\n",
    "def vectorize(var, val, der=1.0):\n",
    "    \"\"\"Function takes in an array of variable names, values, and derivatives and creates an AutoDiffVector object\"\"\"\n",
    "\n",
    "    # Ensure that input vectors are list types\n",
    "    if type(var) != list or type(val) != list:\n",
    "        raise TypeError(\"Input array of variables and values need to be of list type\")\n",
    "\n",
    "    # If der is specified, check that it is a list type\n",
    "    if der != 1.0 and type(der) != list:\n",
    "        raise TypeError(\"If derivatives are specified, derivative array needs to be a list\")\n",
    "\n",
    "    # Ensure that var and val are of the same length\n",
    "    if len(var) != len(val):\n",
    "        raise KeyError(\"Input array of variables and values need to be of the same length\")\n",
    "\n",
    "    # If der is specified, check that it is also of the same length\n",
    "    if der != 1.0 and len(der) != len(val):\n",
    "        raise KeyError(\"If derivatives are specified, derivative array needs to be of the same length as the array of variables\")\n",
    "\n",
    "    # If der is unspecified, create a vector of 1.0 values with length equal to input array\n",
    "    if der == 1.0:\n",
    "        der = [1.0] * len(var)\n",
    "        \n",
    "    # Ensure that the variable names ar enot repeated\n",
    "    if len(var) != len(set(var)):\n",
    "        raise ValueError(\"Variable names cannot be the same\")\n",
    "\n",
    "    # If everything checks out, create AutoDiff objects and to convert into an AutoDiffVector object\n",
    "    objects = []\n",
    "\n",
    "    for i in range(len(var)):\n",
    "        objects.append(AutoDiff(var[i], val[i], der[i]))\n",
    "    \n",
    "    return AutoDiffVector(objects)\n"
   ]
  },
  {
   "cell_type": "code",
   "execution_count": 32,
   "metadata": {},
   "outputs": [
    {
     "data": {
      "text/plain": [
       "12.0"
      ]
     },
     "execution_count": 32,
     "metadata": {},
     "output_type": "execute_result"
    }
   ],
   "source": [
    "a = sad.AutoDiff('a', 2)\n",
    "b = sad.AutoDiff('b', 3)\n",
    "\n",
    "ab = [a,b]\n",
    "tester = AutoDiffVector(ab)\n",
    "tester = 9 + tester\n",
    "\n",
    "tester.objects['b'].val"
   ]
  },
  {
   "cell_type": "code",
   "execution_count": 37,
   "metadata": {},
   "outputs": [
    {
     "name": "stdout",
     "output_type": "stream",
     "text": [
      "6\n",
      "4\n",
      "raise exception\n"
     ]
    }
   ],
   "source": [
    "lister = [1,2,3,4,4,4]\n",
    "\n",
    "print(len(lister))\n",
    "print(len(set(lister)))\n",
    "\n",
    "if len(lister) != len(set(lister)):\n",
    "    print('raise exception')"
   ]
  },
  {
   "cell_type": "code",
   "execution_count": null,
   "metadata": {},
   "outputs": [],
   "source": [
    "from superautodiff import AutoDiff\n",
    "from collections import Counter\n",
    "\n",
    "def ADV(var, val, der=1.0):\n",
    "    # Check types\n",
    "    \n",
    "    # Check length\n",
    "    \n",
    "    # Make sure der is same dimension\n",
    "    if der == 1.0:\n",
    "        der = [1.0] * len(var)\n",
    "    \n",
    "    # If alright, make objects\n",
    "    objects = {}\n",
    "    for i in range(len(var)):\n",
    "        objects[var[i]] = AutoDiff(var[i], val[i], der[i])\n",
    "    \n",
    "    return objects\n",
    "    "
   ]
  },
  {
   "cell_type": "code",
   "execution_count": null,
   "metadata": {},
   "outputs": [],
   "source": [
    "tester = ADV(['x', 'y', 'z'], [1,2,3])\n",
    "print(tester['x'].val)\n",
    "print(tester['y'].der)"
   ]
  },
  {
   "cell_type": "code",
   "execution_count": null,
   "metadata": {},
   "outputs": [],
   "source": [
    "tester['y'] = tester['y']**3\n",
    "tester['y'].der"
   ]
  },
  {
   "cell_type": "code",
   "execution_count": null,
   "metadata": {},
   "outputs": [],
   "source": [
    "# Counter(['a', 'b'])\n",
    "test = {'a': AutoDiff('a', 2)}\n",
    "(test['a']**3).der"
   ]
  },
  {
   "cell_type": "code",
   "execution_count": null,
   "metadata": {},
   "outputs": [],
   "source": [
    "test['b'] = 3"
   ]
  }
 ],
 "metadata": {
  "kernelspec": {
   "display_name": "Python 3",
   "language": "python",
   "name": "python3"
  },
  "language_info": {
   "codemirror_mode": {
    "name": "ipython",
    "version": 3
   },
   "file_extension": ".py",
   "mimetype": "text/x-python",
   "name": "python",
   "nbconvert_exporter": "python",
   "pygments_lexer": "ipython3",
   "version": "3.7.3"
  }
 },
 "nbformat": 4,
 "nbformat_minor": 2
}
