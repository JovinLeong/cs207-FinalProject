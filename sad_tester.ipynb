{
 "cells": [
  {
   "cell_type": "code",
   "execution_count": 39,
   "metadata": {},
   "outputs": [
    {
     "name": "stdout",
     "output_type": "stream",
     "text": [
      "11.0\n",
      "12.0\n"
     ]
    }
   ],
   "source": [
    "import superautodiff as sad\n",
    "import numpy as np\n",
    "\n",
    "a = sad.AutoDiff('a', 2)\n",
    "b = sad.AutoDiff('b', 3)\n",
    "\n",
    "ab = [a,b]\n",
    "tester = AutoDiffVector(ab)\n",
    "tester = 9 + tester\n",
    "\n",
    "print(tester.objects['a'].val)\n",
    "print(tester.objects['b'].val)"
   ]
  },
  {
   "cell_type": "code",
   "execution_count": 50,
   "metadata": {},
   "outputs": [
    {
     "name": "stdout",
     "output_type": "stream",
     "text": [
      "2.0\n",
      "a\n",
      "Counter({'a': 1.0})\n",
      "1.0\n",
      "a\n",
      "{'a': 0.5}\n"
     ]
    }
   ],
   "source": [
    "a = sad.AutoDiff('a', 2)\n",
    "\n",
    "print(a.val)\n",
    "print(a.var)\n",
    "print(a.der)\n",
    "\n",
    "a = a/2\n",
    "\n",
    "print(a.val)\n",
    "print(a.var)\n",
    "print(a.der)\n"
   ]
  },
  {
   "cell_type": "code",
   "execution_count": 37,
   "metadata": {},
   "outputs": [
    {
     "name": "stdout",
     "output_type": "stream",
     "text": [
      "6\n",
      "4\n",
      "raise exception\n"
     ]
    }
   ],
   "source": [
    "lister = [1,2,3,4,4,4]\n",
    "\n",
    "print(len(lister))\n",
    "print(len(set(lister)))\n",
    "\n",
    "if len(lister) != len(set(lister)):\n",
    "    print('raise exception')"
   ]
  },
  {
   "cell_type": "code",
   "execution_count": null,
   "metadata": {},
   "outputs": [],
   "source": [
    "from superautodiff import AutoDiff\n",
    "from collections import Counter\n",
    "\n",
    "def ADV(var, val, der=1.0):\n",
    "    # Check types\n",
    "    \n",
    "    # Check length\n",
    "    \n",
    "    # Make sure der is same dimension\n",
    "    if der == 1.0:\n",
    "        der = [1.0] * len(var)\n",
    "    \n",
    "    # If alright, make objects\n",
    "    objects = {}\n",
    "    for i in range(len(var)):\n",
    "        objects[var[i]] = AutoDiff(var[i], val[i], der[i])\n",
    "    \n",
    "    return objects\n",
    "    "
   ]
  },
  {
   "cell_type": "code",
   "execution_count": null,
   "metadata": {},
   "outputs": [],
   "source": [
    "tester = ADV(['x', 'y', 'z'], [1,2,3])\n",
    "print(tester['x'].val)\n",
    "print(tester['y'].der)"
   ]
  },
  {
   "cell_type": "code",
   "execution_count": null,
   "metadata": {},
   "outputs": [],
   "source": [
    "tester['y'] = tester['y']**3\n",
    "tester['y'].der"
   ]
  },
  {
   "cell_type": "code",
   "execution_count": null,
   "metadata": {},
   "outputs": [],
   "source": [
    "# Counter(['a', 'b'])\n",
    "test = {'a': AutoDiff('a', 2)}\n",
    "(test['a']**3).der"
   ]
  },
  {
   "cell_type": "code",
   "execution_count": null,
   "metadata": {},
   "outputs": [],
   "source": [
    "test['b'] = 3"
   ]
  }
 ],
 "metadata": {
  "kernelspec": {
   "display_name": "Python 3",
   "language": "python",
   "name": "python3"
  },
  "language_info": {
   "codemirror_mode": {
    "name": "ipython",
    "version": 3
   },
   "file_extension": ".py",
   "mimetype": "text/x-python",
   "name": "python",
   "nbconvert_exporter": "python",
   "pygments_lexer": "ipython3",
   "version": "3.7.3"
  }
 },
 "nbformat": 4,
 "nbformat_minor": 2
}
