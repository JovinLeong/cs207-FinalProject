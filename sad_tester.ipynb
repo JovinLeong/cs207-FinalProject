{
 "cells": [
  {
   "cell_type": "code",
   "execution_count": 8,
   "metadata": {},
   "outputs": [
    {
     "name": "stdout",
     "output_type": "stream",
     "text": [
      "11.0\n",
      "12.0\n"
     ]
    }
   ],
   "source": [
    "import superautodiff as test\n",
    "import numpy as np\n",
    "\n",
    "a = test.AutoDiff('a', 2)\n",
    "b = test.AutoDiff('b', 3)\n",
    "\n",
    "ab = [a,b]\n",
    "tester = test.autodiff.AutoDiffVector(ab)\n",
    "tester = 9 + tester\n",
    "\n",
    "print(tester.objects['a'].val)\n",
    "print(tester.objects['b'].val)"
   ]
  },
  {
   "cell_type": "code",
   "execution_count": 2,
   "metadata": {},
   "outputs": [],
   "source": [
    "def _testdef(x):\n",
    "    return x **2"
   ]
  },
  {
   "cell_type": "code",
   "execution_count": null,
   "metadata": {},
   "outputs": [],
   "source": []
  },
  {
   "cell_type": "code",
   "execution_count": 4,
   "metadata": {},
   "outputs": [
    {
     "data": {
      "text/plain": [
       "True"
      ]
     },
     "execution_count": 4,
     "metadata": {},
     "output_type": "execute_result"
    }
   ],
   "source": [
    "# c = a + b\n",
    "# a_1 = a ** 2\n",
    "# b_1 = b ** 2\n",
    "\n",
    "# sad.autodiff.AutoDiff\n",
    "# sad.AutoDiffVector\n",
    "\n",
    "(type(tester).__name__) is 'AutoDiffVector'"
   ]
  },
  {
   "cell_type": "code",
   "execution_count": 5,
   "metadata": {},
   "outputs": [
    {
     "data": {
      "text/plain": [
       "True"
      ]
     },
     "execution_count": 5,
     "metadata": {},
     "output_type": "execute_result"
    }
   ],
   "source": [
    "# ab_1 = (sad.autodiff.AutoDiffVector(ab) ** 2)*3 +\n",
    "# type(sad.autodiff.AutoDiffVector(ab))\n",
    "type(tester) == test.autodiff.AutoDiffVector"
   ]
  },
  {
   "cell_type": "code",
   "execution_count": 6,
   "metadata": {},
   "outputs": [],
   "source": [
    "# if str(type(tester))[2:24] == ''"
   ]
  },
  {
   "cell_type": "code",
   "execution_count": 7,
   "metadata": {},
   "outputs": [
    {
     "ename": "NameError",
     "evalue": "name 'ab_1' is not defined",
     "output_type": "error",
     "traceback": [
      "\u001b[1;31m---------------------------------------------------------------------------\u001b[0m",
      "\u001b[1;31mNameError\u001b[0m                                 Traceback (most recent call last)",
      "\u001b[1;32m<ipython-input-7-5749ce50e4c6>\u001b[0m in \u001b[0;36m<module>\u001b[1;34m\u001b[0m\n\u001b[1;32m----> 1\u001b[1;33m \u001b[0mab_1\u001b[0m\u001b[1;33m.\u001b[0m\u001b[0mobjects\u001b[0m\u001b[1;33m[\u001b[0m\u001b[1;34m'b'\u001b[0m\u001b[1;33m]\u001b[0m\u001b[1;33m.\u001b[0m\u001b[0mval\u001b[0m\u001b[1;33m\u001b[0m\u001b[1;33m\u001b[0m\u001b[0m\n\u001b[0m",
      "\u001b[1;31mNameError\u001b[0m: name 'ab_1' is not defined"
     ]
    }
   ],
   "source": [
    "ab_1.objects['b'].val"
   ]
  },
  {
   "cell_type": "code",
   "execution_count": null,
   "metadata": {},
   "outputs": [],
   "source": [
    "# (type(tester)) == AutoDiffVector\n",
    "\n",
    "# sad.AutoDiffVector\n",
    "tester = sad.functions.sinV(tester)"
   ]
  },
  {
   "cell_type": "code",
   "execution_count": null,
   "metadata": {},
   "outputs": [],
   "source": [
    "tester.objects['b'].val"
   ]
  },
  {
   "cell_type": "code",
   "execution_count": null,
   "metadata": {},
   "outputs": [],
   "source": []
  },
  {
   "cell_type": "code",
   "execution_count": null,
   "metadata": {},
   "outputs": [],
   "source": [
    "a = sad.AutoDiff('a', 2)\n",
    "\n",
    "print(a.val)\n",
    "print(a.var)\n",
    "print(a.der)\n",
    "\n",
    "a = a/2\n",
    "\n",
    "print(a.val)\n",
    "print(a.var)\n",
    "print(a.der)\n"
   ]
  },
  {
   "cell_type": "code",
   "execution_count": null,
   "metadata": {},
   "outputs": [],
   "source": [
    "lister = [1,2,3,4,4,4]\n",
    "\n",
    "print(len(lister))\n",
    "print(len(set(lister)))\n",
    "\n",
    "if len(lister) != len(set(lister)):\n",
    "    print('raise exception')"
   ]
  },
  {
   "cell_type": "code",
   "execution_count": null,
   "metadata": {},
   "outputs": [],
   "source": [
    "from superautodiff import AutoDiff\n",
    "from collections import Counter\n",
    "\n",
    "def ADV(var, val, der=1.0):\n",
    "    # Check types\n",
    "    \n",
    "    # Check length\n",
    "    \n",
    "    # Make sure der is same dimension\n",
    "    if der == 1.0:\n",
    "        der = [1.0] * len(var)\n",
    "    \n",
    "    # If alright, make objects\n",
    "    objects = {}\n",
    "    for i in range(len(var)):\n",
    "        objects[var[i]] = AutoDiff(var[i], val[i], der[i])\n",
    "    \n",
    "    return objects\n",
    "    "
   ]
  },
  {
   "cell_type": "code",
   "execution_count": null,
   "metadata": {},
   "outputs": [],
   "source": [
    "tester = ADV(['x', 'y', 'z'], [1,2,3])\n",
    "print(tester['x'].val)\n",
    "print(tester['y'].der)"
   ]
  },
  {
   "cell_type": "code",
   "execution_count": null,
   "metadata": {},
   "outputs": [],
   "source": [
    "tester['y'] = tester['y']**3\n",
    "tester['y'].der"
   ]
  },
  {
   "cell_type": "code",
   "execution_count": null,
   "metadata": {},
   "outputs": [],
   "source": [
    "# Counter(['a', 'b'])\n",
    "test = {'a': AutoDiff('a', 2)}\n",
    "(test['a']**3).der"
   ]
  },
  {
   "cell_type": "code",
   "execution_count": null,
   "metadata": {},
   "outputs": [],
   "source": [
    "test['b'] = 3"
   ]
  }
 ],
 "metadata": {
  "kernelspec": {
   "display_name": "Python 3",
   "language": "python",
   "name": "python3"
  },
  "language_info": {
   "codemirror_mode": {
    "name": "ipython",
    "version": 3
   },
   "file_extension": ".py",
   "mimetype": "text/x-python",
   "name": "python",
   "nbconvert_exporter": "python",
   "pygments_lexer": "ipython3",
   "version": "3.7.3"
  }
 },
 "nbformat": 4,
 "nbformat_minor": 2
}
