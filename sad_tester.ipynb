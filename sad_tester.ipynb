{
 "cells": [
  {
   "cell_type": "code",
   "execution_count": 69,
   "metadata": {},
   "outputs": [
    {
     "data": {
      "text/plain": [
       "True"
      ]
     },
     "execution_count": 69,
     "metadata": {},
     "output_type": "execute_result"
    }
   ],
   "source": [
    "type([]) == list"
   ]
  },
  {
   "cell_type": "code",
   "execution_count": 5,
   "metadata": {},
   "outputs": [],
   "source": [
    "import superautodiff as sad\n",
    "import numpy as np\n",
    "\n",
    "class AutoDiffVector():\n",
    "    def __init__(self, var, val, der=1.0):\n",
    "        \n",
    "        # Ensure that input vectors are list types\n",
    "        if type(var) != list or type(val) != list:\n",
    "            raise TypeError(\"Input array of variables and values need to be of list type\")\n",
    "        \n",
    "        # If der is specified, check that it is a list type\n",
    "        if der != 1.0 and type(der) != list:\n",
    "            raise TypeError(\"If derivatives are specified, derivative array needs to be a list\")\n",
    "        \n",
    "        # Ensure that var and val are of the same length\n",
    "        if len(var) != len(val):\n",
    "            raise KeyError(\"Input array of variables and values need to be of the same length\")\n",
    "        \n",
    "        # If der is specified, check that it is also of the same length\n",
    "        if der != 1.0 and len(der) != len(val):\n",
    "            raise KeyError(\"If derivatives are specified, derivative array needs to be of the same length as the array of variables\")\n",
    "            \n",
    "        # If der is unspecified, create a vector of 1.0 values with length equal to input array\n",
    "        if der == 1.0:\n",
    "            der = [1.0] * len(var)\n",
    "        \n",
    "        self.var = var\n",
    "        self.val = val\n",
    "        self.der = der\n",
    "        \n",
    "        # If everything checks out, create AutoDiff objects and store in a dictionary\n",
    "        self.objects = {}\n",
    "        \n",
    "        for i in range(len(self.var)):\n",
    "            self.objects[self.var[i]] = AutoDiff(self.var[i], self.val[i], self.der[i])\n",
    "    \n",
    "    def __add__(self, other):\n",
    "        \n",
    "        for i in len(self.objects):\n",
    "            self.objects[self.var[i]] = self.objects[self.var[i]]\n",
    "            \n",
    "        "
   ]
  },
  {
   "cell_type": "code",
   "execution_count": 72,
   "metadata": {},
   "outputs": [
    {
     "data": {
      "text/plain": [
       "3"
      ]
     },
     "execution_count": 72,
     "metadata": {},
     "output_type": "execute_result"
    }
   ],
   "source": []
  },
  {
   "cell_type": "code",
   "execution_count": 48,
   "metadata": {},
   "outputs": [],
   "source": [
    "from superautodiff import AutoDiff\n",
    "from collections import Counter\n",
    "\n",
    "def ADV(var, val, der=1.0):\n",
    "    # Check types\n",
    "    \n",
    "    # Check length\n",
    "    \n",
    "    # Make sure der is same dimension\n",
    "    if der == 1.0:\n",
    "        der = [1.0] * len(var)\n",
    "    \n",
    "    # If alright, make objects\n",
    "    objects = {}\n",
    "    for i in range(len(var)):\n",
    "        objects[var[i]] = AutoDiff(var[i], val[i], der[i])\n",
    "    \n",
    "    return objects\n",
    "    "
   ]
  },
  {
   "cell_type": "code",
   "execution_count": 59,
   "metadata": {},
   "outputs": [
    {
     "name": "stdout",
     "output_type": "stream",
     "text": [
      "1.0\n",
      "Counter({'y': 1.0})\n"
     ]
    }
   ],
   "source": [
    "tester = ADV(['x', 'y', 'z'], [1,2,3])\n",
    "print(tester['x'].val)\n",
    "print(tester['y'].der)"
   ]
  },
  {
   "cell_type": "code",
   "execution_count": 63,
   "metadata": {},
   "outputs": [
    {
     "data": {
      "text/plain": [
       "{'y': 12.0}"
      ]
     },
     "execution_count": 63,
     "metadata": {},
     "output_type": "execute_result"
    }
   ],
   "source": [
    "tester['y'] = tester['y']**3\n",
    "tester['y'].der"
   ]
  },
  {
   "cell_type": "code",
   "execution_count": 40,
   "metadata": {},
   "outputs": [
    {
     "data": {
      "text/plain": [
       "{'a': 12.0}"
      ]
     },
     "execution_count": 40,
     "metadata": {},
     "output_type": "execute_result"
    }
   ],
   "source": [
    "# Counter(['a', 'b'])\n",
    "test = {'a': AutoDiff('a', 2)}\n",
    "(test['a']**3).der"
   ]
  },
  {
   "cell_type": "code",
   "execution_count": 44,
   "metadata": {},
   "outputs": [],
   "source": [
    "test['b'] = 3"
   ]
  }
 ],
 "metadata": {
  "kernelspec": {
   "display_name": "Python 3",
   "language": "python",
   "name": "python3"
  },
  "language_info": {
   "codemirror_mode": {
    "name": "ipython",
    "version": 3
   },
   "file_extension": ".py",
   "mimetype": "text/x-python",
   "name": "python",
   "nbconvert_exporter": "python",
   "pygments_lexer": "ipython3",
   "version": "3.7.3"
  }
 },
 "nbformat": 4,
 "nbformat_minor": 2
}
