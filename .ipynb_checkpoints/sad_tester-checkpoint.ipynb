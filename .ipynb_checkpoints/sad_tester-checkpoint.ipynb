{
 "cells": [
  {
   "cell_type": "code",
   "execution_count": 1,
   "metadata": {},
   "outputs": [],
   "source": [
    "import superautodiff as sad\n",
    "import numpy as np\n",
    "\n",
    "a = sad.AutoDiff('a', 2)\n",
    "b = sad.AutoDiff('b', 3)\n",
    "\n",
    "ab = [a,b]\n",
    "tester = sad.autodiff.AutoDiffVector(ab)\n",
    "tester = 9 + tester\n",
    "\n",
    "print(tester.objects['a'].val)\n",
    "print(tester.objects['b'].val)"
   ]
  },
  {
   "cell_type": "code",
   "execution_count": 4,
   "metadata": {},
   "outputs": [
    {
     "data": {
      "text/plain": [
       "'a + b'"
      ]
     },
     "execution_count": 4,
     "metadata": {},
     "output_type": "execute_result"
    }
   ],
   "source": [
    "c = a + b\n",
    "c.var"
   ]
  },
  {
   "cell_type": "code",
   "execution_count": 3,
   "metadata": {},
   "outputs": [
    {
     "ename": "NameError",
     "evalue": "name 'tester' is not defined",
     "output_type": "error",
     "traceback": [
      "\u001b[1;31m---------------------------------------------------------------------------\u001b[0m",
      "\u001b[1;31mNameError\u001b[0m                                 Traceback (most recent call last)",
      "\u001b[1;32m<ipython-input-3-1fba668f20a4>\u001b[0m in \u001b[0;36m<module>\u001b[1;34m\u001b[0m\n\u001b[0;32m      2\u001b[0m \u001b[1;33m\u001b[0m\u001b[0m\n\u001b[0;32m      3\u001b[0m \u001b[1;31m# sad.AutoDiffVector\u001b[0m\u001b[1;33m\u001b[0m\u001b[1;33m\u001b[0m\u001b[1;33m\u001b[0m\u001b[0m\n\u001b[1;32m----> 4\u001b[1;33m \u001b[0mtester\u001b[0m \u001b[1;33m=\u001b[0m \u001b[0msad\u001b[0m\u001b[1;33m.\u001b[0m\u001b[0mfunctions\u001b[0m\u001b[1;33m.\u001b[0m\u001b[0msinV\u001b[0m\u001b[1;33m(\u001b[0m\u001b[0mtester\u001b[0m\u001b[1;33m)\u001b[0m\u001b[1;33m\u001b[0m\u001b[1;33m\u001b[0m\u001b[0m\n\u001b[0m",
      "\u001b[1;31mNameError\u001b[0m: name 'tester' is not defined"
     ]
    }
   ],
   "source": [
    "# (type(tester)) == AutoDiffVector\n",
    "\n",
    "# sad.AutoDiffVector\n",
    "tester = sad.functions.sinV(tester)"
   ]
  },
  {
   "cell_type": "code",
   "execution_count": null,
   "metadata": {},
   "outputs": [],
   "source": [
    "a*b"
   ]
  },
  {
   "cell_type": "code",
   "execution_count": null,
   "metadata": {},
   "outputs": [],
   "source": [
    "def jacobian(variables, functions):\n",
    "    \"\"\"Returns the Jacobian matrix containing the values first derivative of each input function with respect to each input variable\"\"\"\n",
    "    derivatives = []\n",
    "    for function in functions:\n",
    "        for variable in variables:\n",
    "            derivatives.append(function.der[variable])\n",
    "    return np.array(derivatives).reshape(len(functions), len(variables))"
   ]
  },
  {
   "cell_type": "code",
   "execution_count": null,
   "metadata": {},
   "outputs": [],
   "source": [
    "jacobian(['a','b'], tester)"
   ]
  },
  {
   "cell_type": "code",
   "execution_count": null,
   "metadata": {},
   "outputs": [],
   "source": [
    "a = sad.AutoDiff('a', 2)\n",
    "\n",
    "print(a.val)\n",
    "print(a.var)\n",
    "print(a.der)\n",
    "\n",
    "a = a/2\n",
    "\n",
    "print(a.val)\n",
    "print(a.var)\n",
    "print(a.der)\n"
   ]
  },
  {
   "cell_type": "code",
   "execution_count": null,
   "metadata": {},
   "outputs": [],
   "source": [
    "lister = [1,2,3,4,4,4]\n",
    "\n",
    "print(len(lister))\n",
    "print(len(set(lister)))\n",
    "\n",
    "if len(lister) != len(set(lister)):\n",
    "    print('raise exception')"
   ]
  },
  {
   "cell_type": "code",
   "execution_count": null,
   "metadata": {},
   "outputs": [],
   "source": [
    "from superautodiff import AutoDiff\n",
    "from collections import Counter\n",
    "\n",
    "def ADV(var, val, der=1.0):\n",
    "    # Check types\n",
    "    \n",
    "    # Check length\n",
    "    \n",
    "    # Make sure der is same dimension\n",
    "    if der == 1.0:\n",
    "        der = [1.0] * len(var)\n",
    "    \n",
    "    # If alright, make objects\n",
    "    objects = {}\n",
    "    for i in range(len(var)):\n",
    "        objects[var[i]] = AutoDiff(var[i], val[i], der[i])\n",
    "    \n",
    "    return objects\n",
    "    "
   ]
  },
  {
   "cell_type": "code",
   "execution_count": null,
   "metadata": {},
   "outputs": [],
   "source": [
    "tester = ADV(['x', 'y', 'z'], [1,2,3])\n",
    "print(tester['x'].val)\n",
    "print(tester['y'].der)"
   ]
  },
  {
   "cell_type": "code",
   "execution_count": null,
   "metadata": {},
   "outputs": [],
   "source": [
    "tester['y'] = tester['y']**3\n",
    "tester['y'].der"
   ]
  },
  {
   "cell_type": "code",
   "execution_count": null,
   "metadata": {},
   "outputs": [],
   "source": [
    "# Counter(['a', 'b'])\n",
    "test = {'a': AutoDiff('a', 2)}\n",
    "(test['a']**3).der"
   ]
  },
  {
   "cell_type": "code",
   "execution_count": null,
   "metadata": {},
   "outputs": [],
   "source": [
    "test['b'] = 3"
   ]
  }
 ],
 "metadata": {
  "kernelspec": {
   "display_name": "Python 3",
   "language": "python",
   "name": "python3"
  },
  "language_info": {
   "codemirror_mode": {
    "name": "ipython",
    "version": 3
   },
   "file_extension": ".py",
   "mimetype": "text/x-python",
   "name": "python",
   "nbconvert_exporter": "python",
   "pygments_lexer": "ipython3",
   "version": "3.7.3"
  }
 },
 "nbformat": 4,
 "nbformat_minor": 2
}
